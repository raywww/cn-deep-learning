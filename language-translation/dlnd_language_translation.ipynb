{
 "cells": [
  {
   "cell_type": "markdown",
   "metadata": {
    "collapsed": true
   },
   "source": [
    "# 语言翻译\n",
    "\n",
    "在此项目中，你将了解神经网络机器翻译这一领域。你将用由英语和法语语句组成的数据集，训练一个序列到序列模型（sequence to sequence model），该模型能够将新的英语句子翻译成法语。\n",
    "\n",
    "## 获取数据\n",
    "\n",
    "因为将整个英语语言内容翻译成法语需要大量训练时间，所以我们提供了一小部分的英语语料库。\n"
   ]
  },
  {
   "cell_type": "code",
   "execution_count": 4,
   "metadata": {},
   "outputs": [],
   "source": [
    "\"\"\"\n",
    "DON'T MODIFY ANYTHING IN THIS CELL\n",
    "\"\"\"\n",
    "from os.path import isdir\n",
    "import helper\n",
    "import problem_unittests as tests\n",
    "\n",
    "source_path = 'data/small_vocab_en'\n",
    "target_path = 'data/small_vocab_fr'\n",
    "source_text = helper.load_data(source_path)\n",
    "target_text = helper.load_data(target_path)\n",
    "\n",
    "if not isdir('checkpoints'):\n",
    "    !mkdir checkpoints"
   ]
  },
  {
   "cell_type": "markdown",
   "metadata": {},
   "source": [
    "## 探索数据\n",
    "\n",
    "研究 view_sentence_range，查看并熟悉该数据的不同部分。\n"
   ]
  },
  {
   "cell_type": "code",
   "execution_count": 3,
   "metadata": {},
   "outputs": [
    {
     "name": "stdout",
     "output_type": "stream",
     "text": [
      "Dataset Stats\n",
      "Roughly the number of unique words: 227\n",
      "Number of sentences: 137861\n",
      "Average number of words in a sentence: 13.225277634719028\n",
      "\n",
      "English sentences 0 to 10:\n",
      "new jersey is sometimes quiet during autumn , and it is snowy in april .\n",
      "the united states is usually chilly during july , and it is usually freezing in november .\n",
      "california is usually quiet during march , and it is usually hot in june .\n",
      "the united states is sometimes mild during june , and it is cold in september .\n",
      "your least liked fruit is the grape , but my least liked is the apple .\n",
      "his favorite fruit is the orange , but my favorite is the grape .\n",
      "paris is relaxing during december , but it is usually chilly in july .\n",
      "new jersey is busy during spring , and it is never hot in march .\n",
      "our least liked fruit is the lemon , but my least liked is the grape .\n",
      "the united states is sometimes busy during january , and it is sometimes warm in november .\n",
      "\n",
      "French sentences 0 to 10:\n",
      "new jersey est parfois calme pendant l' automne , et il est neigeux en avril .\n",
      "les états-unis est généralement froid en juillet , et il gèle habituellement en novembre .\n",
      "california est généralement calme en mars , et il est généralement chaud en juin .\n",
      "les états-unis est parfois légère en juin , et il fait froid en septembre .\n",
      "votre moins aimé fruit est le raisin , mais mon moins aimé est la pomme .\n",
      "son fruit préféré est l'orange , mais mon préféré est le raisin .\n",
      "paris est relaxant en décembre , mais il est généralement froid en juillet .\n",
      "new jersey est occupé au printemps , et il est jamais chaude en mars .\n",
      "notre fruit est moins aimé le citron , mais mon moins aimé est le raisin .\n",
      "les états-unis est parfois occupé en janvier , et il est parfois chaud en novembre .\n"
     ]
    }
   ],
   "source": [
    "view_sentence_range = (0, 10)\n",
    "\n",
    "\"\"\"\n",
    "DON'T MODIFY ANYTHING IN THIS CELL\n",
    "\"\"\"\n",
    "import numpy as np\n",
    "\n",
    "print('Dataset Stats')\n",
    "print('Roughly the number of unique words: {}'.format(len({word: None for word in source_text.split()})))\n",
    "\n",
    "sentences = source_text.split('\\n')\n",
    "word_counts = [len(sentence.split()) for sentence in sentences]\n",
    "print('Number of sentences: {}'.format(len(sentences)))\n",
    "print('Average number of words in a sentence: {}'.format(np.average(word_counts)))\n",
    "\n",
    "print()\n",
    "print('English sentences {} to {}:'.format(*view_sentence_range))\n",
    "print('\\n'.join(source_text.split('\\n')[view_sentence_range[0]:view_sentence_range[1]]))\n",
    "print()\n",
    "print('French sentences {} to {}:'.format(*view_sentence_range))\n",
    "print('\\n'.join(target_text.split('\\n')[view_sentence_range[0]:view_sentence_range[1]]))"
   ]
  },
  {
   "cell_type": "markdown",
   "metadata": {},
   "source": [
    "## 实现预处理函数\n",
    "\n",
    "### 文本到单词 id\n",
    "\n",
    "和之前的 RNN 一样，你必须首先将文本转换为数字，这样计算机才能读懂。在函数 `text_to_ids()` 中，你需要将单词中的 `source_text` 和 `target_text` 转为 id。但是，你需要在 `target_text` 中每个句子的末尾，添加 `<EOS>` 单词 id。这样可以帮助神经网络预测句子应该在什么地方结束。\n",
    "\n",
    "\n",
    "你可以通过以下代码获取  `<EOS> ` 单词ID：\n",
    "\n",
    "```python\n",
    "target_vocab_to_int['<EOS>']\n",
    "```\n",
    "\n",
    "你可以使用 `source_vocab_to_int` 和 `target_vocab_to_int` 获得其他单词 id。\n"
   ]
  },
  {
   "cell_type": "code",
   "execution_count": 4,
   "metadata": {},
   "outputs": [
    {
     "name": "stdout",
     "output_type": "stream",
     "text": [
      "Tests Passed\n"
     ]
    }
   ],
   "source": [
    "def text_to_ids(source_text, target_text, source_vocab_to_int, target_vocab_to_int):\n",
    "    \"\"\"\n",
    "    Convert source and target text to proper word ids\n",
    "    :param source_text: String that contains all the source text.\n",
    "    :param target_text: String that contains all the target text.\n",
    "    :param source_vocab_to_int: Dictionary to go from the source words to an id\n",
    "    :param target_vocab_to_int: Dictionary to go from the target words to an id\n",
    "    :return: A tuple of lists (source_id_text, target_id_text)\n",
    "    \"\"\"\n",
    "    # TODO: Implement Function\n",
    "    source_id_text = [[source_vocab_to_int[word] for word in sentence.split()] \n",
    "                      for sentence in source_text.split('\\n') ]\n",
    "    target_id_text = [[target_vocab_to_int[word] for word in sentence.split()] + [target_vocab_to_int['<EOS>']] \n",
    "                      for sentence in target_text.split('\\n') ]\n",
    "    return source_id_text, target_id_text\n",
    "\n",
    "\"\"\"\n",
    "DON'T MODIFY ANYTHING IN THIS CELL THAT IS BELOW THIS LINE\n",
    "\"\"\"\n",
    "tests.test_text_to_ids(text_to_ids)"
   ]
  },
  {
   "cell_type": "markdown",
   "metadata": {},
   "source": [
    "### 预处理所有数据并保存\n",
    "\n",
    "运行以下代码单元，预处理所有数据，并保存到文件中。\n"
   ]
  },
  {
   "cell_type": "code",
   "execution_count": 5,
   "metadata": {
    "collapsed": true
   },
   "outputs": [],
   "source": [
    "\"\"\"\n",
    "DON'T MODIFY ANYTHING IN THIS CELL\n",
    "\"\"\"\n",
    "helper.preprocess_and_save_data(source_path, target_path, text_to_ids)"
   ]
  },
  {
   "cell_type": "markdown",
   "metadata": {},
   "source": [
    "# 检查点\n",
    "\n",
    "这是你的第一个检查点。如果你什么时候决定再回到该记事本，或需要重新启动该记事本，可以从这里继续。预处理的数据已保存到磁盘上。"
   ]
  },
  {
   "cell_type": "code",
   "execution_count": 1,
   "metadata": {
    "collapsed": true
   },
   "outputs": [],
   "source": [
    "\"\"\"\n",
    "DON'T MODIFY ANYTHING IN THIS CELL\n",
    "\"\"\"\n",
    "import numpy as np\n",
    "import helper\n",
    "\n",
    "(source_int_text, target_int_text), (source_vocab_to_int, target_vocab_to_int), _ = helper.load_preprocess()"
   ]
  },
  {
   "cell_type": "markdown",
   "metadata": {},
   "source": [
    "### 检查 TensorFlow 版本，确认可访问 GPU\n",
    "\n",
    "这一检查步骤，可以确保你使用的是正确版本的 TensorFlow，并且能够访问 GPU。\n"
   ]
  },
  {
   "cell_type": "code",
   "execution_count": 2,
   "metadata": {},
   "outputs": [
    {
     "name": "stdout",
     "output_type": "stream",
     "text": [
      "TensorFlow Version: 1.0.0\n",
      "Default GPU Device: /gpu:0\n"
     ]
    }
   ],
   "source": [
    "\"\"\"\n",
    "DON'T MODIFY ANYTHING IN THIS CELL\n",
    "\"\"\"\n",
    "from distutils.version import LooseVersion\n",
    "import warnings\n",
    "import tensorflow as tf\n",
    "\n",
    "# Check TensorFlow Version\n",
    "assert LooseVersion(tf.__version__) in [LooseVersion('1.0.0'), LooseVersion('1.0.1')], 'This project requires TensorFlow version 1.0  You are using {}'.format(tf.__version__)\n",
    "print('TensorFlow Version: {}'.format(tf.__version__))\n",
    "\n",
    "# Check for a GPU\n",
    "if not tf.test.gpu_device_name():\n",
    "    warnings.warn('No GPU found. Please use a GPU to train your neural network.')\n",
    "else:\n",
    "    print('Default GPU Device: {}'.format(tf.test.gpu_device_name()))"
   ]
  },
  {
   "cell_type": "markdown",
   "metadata": {},
   "source": [
    "## 构建神经网络\n",
    "\n",
    "你将通过实现以下函数，构建出要构建一个序列到序列模型所需的组件：\n",
    "\n",
    "- `model_inputs`\n",
    "- `process_decoding_input`\n",
    "- `encoding_layer`\n",
    "- `decoding_layer_train`\n",
    "- `decoding_layer_infer`\n",
    "- `decoding_layer`\n",
    "- `seq2seq_model`\n",
    "\n",
    "### 输入\n",
    "\n",
    "实现 `model_inputs()` 函数，为神经网络创建 TF 占位符。该函数应该创建以下占位符：\n",
    "\n",
    "- 名为 “input” 的输入文本占位符，并使用 TF Placeholder 名称参数（等级（Rank）为 2）。\n",
    "- 目标占位符（等级为 2）。\n",
    "- 学习速率占位符（等级为 0）。\n",
    "- 名为 “keep_prob” 的保留率占位符，并使用 TF Placeholder 名称参数（等级为 0）。\n",
    "\n",
    "在以下元祖（tuple）中返回占位符：（输入、目标、学习速率、保留率）\n"
   ]
  },
  {
   "cell_type": "code",
   "execution_count": 5,
   "metadata": {},
   "outputs": [
    {
     "name": "stdout",
     "output_type": "stream",
     "text": [
      "Tests Passed\n"
     ]
    }
   ],
   "source": [
    "def model_inputs():\n",
    "    \"\"\"\n",
    "    Create TF Placeholders for input, targets, and learning rate.\n",
    "    :return: Tuple (input, targets, learning rate, keep probability)\n",
    "    \"\"\"\n",
    "    # TODO: Implement Function\n",
    "    inputs = tf.placeholder(tf.int32, shape=[None, None], name='input')\n",
    "    targets = tf.placeholder(tf.int32, shape=[None, None], name='target')\n",
    "    learning_rate = tf.placeholder(tf.float32, name='lr')\n",
    "    keep_prob = tf.placeholder(tf.float32, name='keep_prob')\n",
    "    \n",
    "    return inputs, targets, learning_rate, keep_prob\n",
    "\n",
    "\"\"\"\n",
    "DON'T MODIFY ANYTHING IN THIS CELL THAT IS BELOW THIS LINE\n",
    "\"\"\"\n",
    "tests.test_model_inputs(model_inputs)"
   ]
  },
  {
   "cell_type": "markdown",
   "metadata": {},
   "source": [
    "### 处理解码输入\n",
    "\n",
    "使用 TensorFlow 实现 `process_decoding_input`，以便删掉 `target_data` 中每个批次的最后一个单词 ID，并将 GO ID 放到每个批次的开头。"
   ]
  },
  {
   "cell_type": "code",
   "execution_count": 6,
   "metadata": {},
   "outputs": [
    {
     "name": "stdout",
     "output_type": "stream",
     "text": [
      "Tests Passed\n"
     ]
    }
   ],
   "source": [
    "def process_decoding_input(target_data, target_vocab_to_int, batch_size):\n",
    "    \"\"\"\n",
    "    Preprocess target data for dencoding\n",
    "    :param target_data: Target Placehoder\n",
    "    :param target_vocab_to_int: Dictionary to go from the target words to an id\n",
    "    :param batch_size: Batch Size\n",
    "    :return: Preprocessed target data\n",
    "    \"\"\"\n",
    "    # TODO: Implement Function\n",
    "    end = tf.strided_slice(target_data, begin=[0,0], end=[batch_size,-1], strides=[1,1])\n",
    "    go = tf.fill([batch_size,1], target_vocab_to_int['<GO>'])\n",
    "    decoding_input = tf.concat([go, end], 1)\n",
    "    return decoding_input\n",
    "\n",
    "\"\"\"\n",
    "DON'T MODIFY ANYTHING IN THIS CELL THAT IS BELOW THIS LINE\n",
    "\"\"\"\n",
    "tests.test_process_decoding_input(process_decoding_input)"
   ]
  },
  {
   "cell_type": "markdown",
   "metadata": {},
   "source": [
    "### 编码\n",
    "\n",
    "实现 `encoding_layer()`，以使用 [`tf.nn.dynamic_rnn()`](https://www.tensorflow.org/api_docs/python/tf/nn/dynamic_rnn) 创建编码器 RNN 层级。"
   ]
  },
  {
   "cell_type": "code",
   "execution_count": 7,
   "metadata": {},
   "outputs": [
    {
     "name": "stdout",
     "output_type": "stream",
     "text": [
      "Tests Passed\n"
     ]
    }
   ],
   "source": [
    "def encoding_layer(rnn_inputs, rnn_size, num_layers, keep_prob):\n",
    "    \"\"\"\n",
    "    Create encoding layer\n",
    "    :param rnn_inputs: Inputs for the RNN\n",
    "    :param rnn_size: RNN Size\n",
    "    :param num_layers: Number of layers\n",
    "    :param keep_prob: Dropout keep probability\n",
    "    :return: RNN state\n",
    "    \"\"\"\n",
    "    # TODO: Implement Function\n",
    "    def make_lstm(rnn_size):\n",
    "        return tf.contrib.rnn.BasicLSTMCell(rnn_size)\n",
    "    cell = tf.contrib.rnn.MultiRNNCell([make_lstm(rnn_size) for _ in range(num_layers)])\n",
    "    cell = tf.contrib.rnn.DropoutWrapper(cell, keep_prob)\n",
    "    _, encoding_state = tf.nn.dynamic_rnn(cell, rnn_inputs, dtype=tf.float32)\n",
    "    return encoding_state\n",
    "\n",
    "\"\"\"\n",
    "DON'T MODIFY ANYTHING IN THIS CELL THAT IS BELOW THIS LINE\n",
    "\"\"\"\n",
    "tests.test_encoding_layer(encoding_layer)"
   ]
  },
  {
   "cell_type": "markdown",
   "metadata": {},
   "source": [
    "### 解码 - 训练\n",
    "\n",
    "使用 [`tf.contrib.seq2seq.simple_decoder_fn_train()`](https://www.tensorflow.org/versions/r1.0/api_docs/python/tf/contrib/seq2seq/simple_decoder_fn_train) 和 [`tf.contrib.seq2seq.dynamic_rnn_decoder()`](https://www.tensorflow.org/versions/r1.0/api_docs/python/tf/contrib/seq2seq/dynamic_rnn_decoder) 创建训练分对数（training logits）。将 `output_fn` 应用到 [`tf.contrib.seq2seq.dynamic_rnn_decoder()`](https://www.tensorflow.org/versions/r1.0/api_docs/python/tf/contrib/seq2seq/dynamic_rnn_decoder) 输出上。"
   ]
  },
  {
   "cell_type": "code",
   "execution_count": 8,
   "metadata": {},
   "outputs": [
    {
     "name": "stdout",
     "output_type": "stream",
     "text": [
      "Tests Passed\n"
     ]
    }
   ],
   "source": [
    "def decoding_layer_train(encoder_state, dec_cell, dec_embed_input, sequence_length, decoding_scope,\n",
    "                         output_fn, keep_prob):\n",
    "    \"\"\"\n",
    "    Create a decoding layer for training\n",
    "    :param encoder_state: Encoder State\n",
    "    :param dec_cell: Decoder RNN Cell\n",
    "    :param dec_embed_input: Decoder embedded input\n",
    "    :param sequence_length: Sequence Length\n",
    "    :param decoding_scope: TenorFlow Variable Scope for decoding\n",
    "    :param output_fn: Function to apply the output layer\n",
    "    :param keep_prob: Dropout keep probability\n",
    "    :return: Train Logits\n",
    "    \"\"\"\n",
    "    # TODO: Implement Function\n",
    "    dynamic_fn_train = tf.contrib.seq2seq.simple_decoder_fn_train(encoder_state)\n",
    "    drop_cell = tf.contrib.rnn.DropoutWrapper(dec_cell, keep_prob)\n",
    "    train_pred, _, _ = tf.contrib.seq2seq.dynamic_rnn_decoder(drop_cell, dynamic_fn_train, dec_embed_input,\n",
    "                                                              sequence_length, scope=decoding_scope)\n",
    "    train_logits = output_fn(train_pred)\n",
    "    return train_logits\n",
    "\n",
    "\n",
    "\"\"\"\n",
    "DON'T MODIFY ANYTHING IN THIS CELL THAT IS BELOW THIS LINE\n",
    "\"\"\"\n",
    "tests.test_decoding_layer_train(decoding_layer_train)"
   ]
  },
  {
   "cell_type": "markdown",
   "metadata": {},
   "source": [
    "### 解码 - 推论\n",
    "\n",
    "使用 [`tf.contrib.seq2seq.simple_decoder_fn_inference()`](https://www.tensorflow.org/versions/r1.0/api_docs/python/tf/contrib/seq2seq/simple_decoder_fn_inference) 和 [`tf.contrib.seq2seq.dynamic_rnn_decoder()`](https://www.tensorflow.org/versions/r1.0/api_docs/python/tf/contrib/seq2seq/dynamic_rnn_decoder) 创建推论分对数（inference logits）。"
   ]
  },
  {
   "cell_type": "code",
   "execution_count": 9,
   "metadata": {},
   "outputs": [
    {
     "name": "stdout",
     "output_type": "stream",
     "text": [
      "Tests Passed\n"
     ]
    }
   ],
   "source": [
    "def decoding_layer_infer(encoder_state, dec_cell, dec_embeddings, start_of_sequence_id, end_of_sequence_id,\n",
    "                         maximum_length, vocab_size, decoding_scope, output_fn, keep_prob):\n",
    "    \"\"\"\n",
    "    Create a decoding layer for inference\n",
    "    :param encoder_state: Encoder state\n",
    "    :param dec_cell: Decoder RNN Cell\n",
    "    :param dec_embeddings: Decoder embeddings\n",
    "    :param start_of_sequence_id: GO ID\n",
    "    :param end_of_sequence_id: EOS Id\n",
    "    :param maximum_length: The maximum allowed time steps to decode\n",
    "    :param vocab_size: Size of vocabulary\n",
    "    :param decoding_scope: TensorFlow Variable Scope for decoding\n",
    "    :param output_fn: Function to apply the output layer\n",
    "    :param keep_prob: Dropout keep probability\n",
    "    :return: Inference Logits\n",
    "    \"\"\"\n",
    "    # TODO: Implement Function\n",
    "    dynamic_fn_inference = tf.contrib.seq2seq.simple_decoder_fn_inference(output_fn, encoder_state, dec_embeddings,\n",
    "                                                                         start_of_sequence_id, end_of_sequence_id, \n",
    "                                                                         maximum_length, vocab_size)\n",
    "    drop_cell = tf.contrib.rnn.DropoutWrapper(dec_cell, keep_prob)\n",
    "    inference_logits, _, _ = tf.contrib.seq2seq.dynamic_rnn_decoder(drop_cell, dynamic_fn_inference, scope=decoding_scope)\n",
    "    \n",
    "    return inference_logits\n",
    "\n",
    "\n",
    "\"\"\"\n",
    "DON'T MODIFY ANYTHING IN THIS CELL THAT IS BELOW THIS LINE\n",
    "\"\"\"\n",
    "tests.test_decoding_layer_infer(decoding_layer_infer)"
   ]
  },
  {
   "cell_type": "markdown",
   "metadata": {},
   "source": [
    "### 构建解码层级\n",
    "\n",
    "实现 `decoding_layer()` 以创建解码器 RNN 层级。\n",
    "\n",
    "- 使用 `rnn_size` 和 `num_layers` 创建解码 RNN 单元。\n",
    "- 使用 [`lambda`](https://docs.python.org/3/tutorial/controlflow.html#lambda-expressions) 创建输出函数，将输入，也就是分对数转换为类分对数（class logits）。\n",
    "- 使用 `decoding_layer_train(encoder_state, dec_cell, dec_embed_input, sequence_length, decoding_scope, output_fn, keep_prob)` 函数获取训练分对数。\n",
    "- 使用 `decoding_layer_infer(encoder_state, dec_cell, dec_embeddings, start_of_sequence_id, end_of_sequence_id, maximum_length, vocab_size, decoding_scope, output_fn, keep_prob)` 函数获取推论分对数。\n",
    "\n",
    "注意：你将需要使用 [tf.variable_scope](https://www.tensorflow.org/api_docs/python/tf/variable_scope) 在训练和推论分对数间分享变量。"
   ]
  },
  {
   "cell_type": "code",
   "execution_count": 10,
   "metadata": {},
   "outputs": [
    {
     "name": "stdout",
     "output_type": "stream",
     "text": [
      "Tests Passed\n"
     ]
    }
   ],
   "source": [
    "def decoding_layer(dec_embed_input, dec_embeddings, encoder_state, vocab_size, sequence_length, rnn_size,\n",
    "                   num_layers, target_vocab_to_int, keep_prob):\n",
    "    \"\"\"\n",
    "    Create decoding layer\n",
    "    :param dec_embed_input: Decoder embedded input\n",
    "    :param dec_embeddings: Decoder embeddings\n",
    "    :param encoder_state: The encoded state\n",
    "    :param vocab_size: Size of vocabulary\n",
    "    :param sequence_length: Sequence Length\n",
    "    :param rnn_size: RNN Size\n",
    "    :param num_layers: Number of layers\n",
    "    :param target_vocab_to_int: Dictionary to go from the target words to an id\n",
    "    :param keep_prob: Dropout keep probability\n",
    "    :return: Tuple of (Training Logits, Inference Logits)\n",
    "    \"\"\"\n",
    "    # TODO: Implement Function\n",
    "    def make_lstm(rnn_size):\n",
    "        return tf.contrib.rnn.BasicLSTMCell(rnn_size)\n",
    "    cell = tf.contrib.rnn.MultiRNNCell([make_lstm(rnn_size) for _ in range(num_layers)])\n",
    "    cell = tf.contrib.rnn.DropoutWrapper(cell, keep_prob)\n",
    "    \n",
    "    with tf.variable_scope(\"decoding\") as decoding_scope:\n",
    "        output_fn = lambda x: tf.contrib.layers.fully_connected(x, vocab_size, None, scope=decoding_scope)\n",
    "\n",
    "        train_logits = decoding_layer_train(encoder_state, cell, dec_embed_input,\n",
    "                                            sequence_length, decoding_scope, output_fn, keep_prob)\n",
    "    with tf.variable_scope(\"decoding\", reuse=True) as decoding_scope:\n",
    "        start_of_sequence_id = target_vocab_to_int['<GO>']\n",
    "        end_of_sequence_id = target_vocab_to_int['<EOS>']\n",
    "        inference_logits = decoding_layer_infer(encoder_state, cell, dec_embeddings, start_of_sequence_id, \n",
    "                                                end_of_sequence_id, sequence_length - 1, vocab_size, \n",
    "                                                decoding_scope, output_fn, keep_prob)\n",
    "        \n",
    "    return train_logits, inference_logits\n",
    "\n",
    "\n",
    "\"\"\"\n",
    "DON'T MODIFY ANYTHING IN THIS CELL THAT IS BELOW THIS LINE\n",
    "\"\"\"\n",
    "tests.test_decoding_layer(decoding_layer)"
   ]
  },
  {
   "cell_type": "markdown",
   "metadata": {},
   "source": [
    "### 构建神经网络\n",
    "\n",
    "应用你在上方实现的函数，以：\n",
    "\n",
    "- 向编码器的输入数据应用嵌入。\n",
    "- 使用 `encoding_layer(rnn_inputs, rnn_size, num_layers, keep_prob)` 编码输入。\n",
    "- 使用 `process_decoding_input(target_data, target_vocab_to_int, batch_size)` 函数处理目标数据。\n",
    "- 向解码器的目标数据应用嵌入。\n",
    "- 使用 `decoding_layer(dec_embed_input, dec_embeddings, encoder_state, vocab_size, sequence_length, rnn_size, num_layers, target_vocab_to_int, keep_prob)` 解码编码的输入数据。"
   ]
  },
  {
   "cell_type": "code",
   "execution_count": 11,
   "metadata": {},
   "outputs": [
    {
     "name": "stdout",
     "output_type": "stream",
     "text": [
      "Tests Passed\n"
     ]
    }
   ],
   "source": [
    "def seq2seq_model(input_data, target_data, keep_prob, batch_size, sequence_length, source_vocab_size, target_vocab_size,\n",
    "                  enc_embedding_size, dec_embedding_size, rnn_size, num_layers, target_vocab_to_int):\n",
    "    \"\"\"\n",
    "    Build the Sequence-to-Sequence part of the neural network\n",
    "    :param input_data: Input placeholder\n",
    "    :param target_data: Target placeholder\n",
    "    :param keep_prob: Dropout keep probability placeholder\n",
    "    :param batch_size: Batch Size\n",
    "    :param sequence_length: Sequence Length\n",
    "    :param source_vocab_size: Source vocabulary size\n",
    "    :param target_vocab_size: Target vocabulary size\n",
    "    :param enc_embedding_size: Decoder embedding size\n",
    "    :param dec_embedding_size: Encoder embedding size\n",
    "    :param rnn_size: RNN Size\n",
    "    :param num_layers: Number of layers\n",
    "    :param target_vocab_to_int: Dictionary to go from the target words to an id\n",
    "    :return: Tuple of (Training Logits, Inference Logits)\n",
    "    \"\"\"\n",
    "    # TODO: Implement Function\n",
    "    enc_embed_input = tf.contrib.layers.embed_sequence(input_data, source_vocab_size, enc_embedding_size)\n",
    "    enc_state = encoding_layer(enc_embed_input, rnn_size, num_layers, keep_prob)\n",
    "    \n",
    "    dec_input = process_decoding_input(target_data, target_vocab_to_int, batch_size)\n",
    "    dec_embedding = tf.Variable(tf.random_uniform([target_vocab_size, dec_embedding_size]))\n",
    "    dec_embed_input = tf.nn.embedding_lookup(dec_embedding, dec_input)\n",
    "    \n",
    "    training_logits, inference_logits = decoding_layer(dec_embed_input, dec_embedding,enc_state, \n",
    "                                                       target_vocab_size, sequence_length, rnn_size, \n",
    "                                                       num_layers, target_vocab_to_int, keep_prob)\n",
    "    return training_logits, inference_logits\n",
    "\n",
    "\n",
    "\"\"\"\n",
    "DON'T MODIFY ANYTHING IN THIS CELL THAT IS BELOW THIS LINE\n",
    "\"\"\"\n",
    "tests.test_seq2seq_model(seq2seq_model)"
   ]
  },
  {
   "cell_type": "markdown",
   "metadata": {},
   "source": [
    "## 训练神经网络\n",
    "\n",
    "### 超参数\n",
    "\n",
    "调试以下参数：\n",
    "\n",
    "- 将 `epochs` 设为 epoch 次数。\n",
    "- 将 `batch_size` 设为批次大小。\n",
    "- 将 `rnn_size` 设为 RNN 的大小。\n",
    "- 将 `num_layers` 设为层级数量。\n",
    "- 将 `encoding_embedding_size` 设为编码器嵌入大小。\n",
    "- 将 `decoding_embedding_size` 设为解码器嵌入大小\n",
    "- 将 `learning_rate` 设为训练速率。\n",
    "- 将 `keep_probability` 设为丢弃保留率（Dropout keep probability）。"
   ]
  },
  {
   "cell_type": "code",
   "execution_count": 14,
   "metadata": {
    "collapsed": true
   },
   "outputs": [],
   "source": [
    "# Number of Epochs\n",
    "epochs = 10\n",
    "# Batch Size\n",
    "batch_size = 512\n",
    "# RNN Size\n",
    "rnn_size = 256\n",
    "# Number of Layers\n",
    "num_layers = 3\n",
    "# Embedding Size\n",
    "encoding_embedding_size = 128\n",
    "decoding_embedding_size = 128\n",
    "# Learning Rate\n",
    "learning_rate = 0.001\n",
    "# Dropout Keep Probability\n",
    "keep_probability = 0.6\n",
    "\n",
    "show_every_n_batches = 20"
   ]
  },
  {
   "cell_type": "markdown",
   "metadata": {},
   "source": [
    "### 构建图表\n",
    "\n",
    "使用你实现的神经网络构建图表。"
   ]
  },
  {
   "cell_type": "code",
   "execution_count": 15,
   "metadata": {
    "collapsed": true
   },
   "outputs": [],
   "source": [
    "\"\"\"\n",
    "DON'T MODIFY ANYTHING IN THIS CELL\n",
    "\"\"\"\n",
    "save_path = 'checkpoints/dev'\n",
    "(source_int_text, target_int_text), (source_vocab_to_int, target_vocab_to_int), _ = helper.load_preprocess()\n",
    "max_source_sentence_length = max([len(sentence) for sentence in source_int_text])\n",
    "\n",
    "train_graph = tf.Graph()\n",
    "with train_graph.as_default():\n",
    "    input_data, targets, lr, keep_prob = model_inputs()\n",
    "    sequence_length = tf.placeholder_with_default(max_source_sentence_length, None, name='sequence_length')\n",
    "    input_shape = tf.shape(input_data)\n",
    "    \n",
    "    train_logits, inference_logits = seq2seq_model(\n",
    "        tf.reverse(input_data, [-1]), targets, keep_prob, batch_size, sequence_length, len(source_vocab_to_int), len(target_vocab_to_int),\n",
    "        encoding_embedding_size, decoding_embedding_size, rnn_size, num_layers, target_vocab_to_int)\n",
    "\n",
    "    tf.identity(inference_logits, 'logits')\n",
    "    with tf.name_scope(\"optimization\"):\n",
    "        # Loss function\n",
    "        cost = tf.contrib.seq2seq.sequence_loss(\n",
    "            train_logits,\n",
    "            targets,\n",
    "            tf.ones([input_shape[0], sequence_length]))\n",
    "\n",
    "        # Optimizer\n",
    "        optimizer = tf.train.AdamOptimizer(lr)\n",
    "\n",
    "        # Gradient Clipping\n",
    "        gradients = optimizer.compute_gradients(cost)\n",
    "        capped_gradients = [(tf.clip_by_value(grad, -1., 1.), var) for grad, var in gradients if grad is not None]\n",
    "        train_op = optimizer.apply_gradients(capped_gradients)"
   ]
  },
  {
   "cell_type": "markdown",
   "metadata": {},
   "source": [
    "### 训练\n",
    "\n",
    "利用预处理的数据训练神经网络。如果很难获得低损失值，请访问我们的论坛，看看其他人是否遇到了相同的问题。"
   ]
  },
  {
   "cell_type": "code",
   "execution_count": 16,
   "metadata": {
    "scrolled": false
   },
   "outputs": [
    {
     "name": "stdout",
     "output_type": "stream",
     "text": [
      "Epoch   0 Batch    0/269 - Train Accuracy:  0.253, Validation Accuracy:  0.321, Loss:  5.880\n",
      "Epoch   0 Batch   20/269 - Train Accuracy:  0.335, Validation Accuracy:  0.395, Loss:  3.120\n",
      "Epoch   0 Batch   40/269 - Train Accuracy:  0.391, Validation Accuracy:  0.452, Loss:  2.728\n",
      "Epoch   0 Batch   60/269 - Train Accuracy:  0.452, Validation Accuracy:  0.469, Loss:  2.303\n",
      "Epoch   0 Batch   80/269 - Train Accuracy:  0.483, Validation Accuracy:  0.496, Loss:  2.223\n",
      "Epoch   0 Batch  100/269 - Train Accuracy:  0.482, Validation Accuracy:  0.486, Loss:  2.064\n",
      "Epoch   0 Batch  120/269 - Train Accuracy:  0.434, Validation Accuracy:  0.486, Loss:  2.082\n",
      "Epoch   0 Batch  140/269 - Train Accuracy:  0.491, Validation Accuracy:  0.510, Loss:  1.951\n",
      "Epoch   0 Batch  160/269 - Train Accuracy:  0.487, Validation Accuracy:  0.513, Loss:  1.861\n",
      "Epoch   0 Batch  180/269 - Train Accuracy:  0.482, Validation Accuracy:  0.512, Loss:  1.689\n",
      "Epoch   0 Batch  200/269 - Train Accuracy:  0.504, Validation Accuracy:  0.539, Loss:  1.635\n",
      "Epoch   0 Batch  220/269 - Train Accuracy:  0.542, Validation Accuracy:  0.547, Loss:  1.404\n",
      "Epoch   0 Batch  240/269 - Train Accuracy:  0.561, Validation Accuracy:  0.555, Loss:  1.278\n",
      "Epoch   0 Batch  260/269 - Train Accuracy:  0.523, Validation Accuracy:  0.552, Loss:  1.394\n",
      "Epoch   1 Batch   11/269 - Train Accuracy:  0.529, Validation Accuracy:  0.554, Loss:  1.248\n",
      "Epoch   1 Batch   31/269 - Train Accuracy:  0.542, Validation Accuracy:  0.552, Loss:  1.159\n",
      "Epoch   1 Batch   51/269 - Train Accuracy:  0.526, Validation Accuracy:  0.546, Loss:  1.137\n",
      "Epoch   1 Batch   71/269 - Train Accuracy:  0.523, Validation Accuracy:  0.558, Loss:  1.120\n",
      "Epoch   1 Batch   91/269 - Train Accuracy:  0.555, Validation Accuracy:  0.577, Loss:  1.014\n",
      "Epoch   1 Batch  111/269 - Train Accuracy:  0.528, Validation Accuracy:  0.570, Loss:  1.052\n",
      "Epoch   1 Batch  131/269 - Train Accuracy:  0.542, Validation Accuracy:  0.578, Loss:  0.978\n",
      "Epoch   1 Batch  151/269 - Train Accuracy:  0.598, Validation Accuracy:  0.582, Loss:  0.866\n",
      "Epoch   1 Batch  171/269 - Train Accuracy:  0.572, Validation Accuracy:  0.591, Loss:  0.915\n",
      "Epoch   1 Batch  191/269 - Train Accuracy:  0.597, Validation Accuracy:  0.598, Loss:  0.845\n",
      "Epoch   1 Batch  211/269 - Train Accuracy:  0.602, Validation Accuracy:  0.607, Loss:  0.826\n",
      "Epoch   1 Batch  231/269 - Train Accuracy:  0.575, Validation Accuracy:  0.612, Loss:  0.845\n",
      "Epoch   1 Batch  251/269 - Train Accuracy:  0.620, Validation Accuracy:  0.609, Loss:  0.766\n",
      "Epoch   2 Batch    2/269 - Train Accuracy:  0.592, Validation Accuracy:  0.610, Loss:  0.769\n",
      "Epoch   2 Batch   22/269 - Train Accuracy:  0.616, Validation Accuracy:  0.618, Loss:  0.713\n",
      "Epoch   2 Batch   42/269 - Train Accuracy:  0.635, Validation Accuracy:  0.622, Loss:  0.677\n",
      "Epoch   2 Batch   62/269 - Train Accuracy:  0.631, Validation Accuracy:  0.625, Loss:  0.674\n",
      "Epoch   2 Batch   82/269 - Train Accuracy:  0.631, Validation Accuracy:  0.629, Loss:  0.657\n",
      "Epoch   2 Batch  102/269 - Train Accuracy:  0.613, Validation Accuracy:  0.632, Loss:  0.663\n",
      "Epoch   2 Batch  122/269 - Train Accuracy:  0.636, Validation Accuracy:  0.636, Loss:  0.637\n",
      "Epoch   2 Batch  142/269 - Train Accuracy:  0.632, Validation Accuracy:  0.642, Loss:  0.624\n",
      "Epoch   2 Batch  162/269 - Train Accuracy:  0.632, Validation Accuracy:  0.639, Loss:  0.612\n",
      "Epoch   2 Batch  182/269 - Train Accuracy:  0.647, Validation Accuracy:  0.649, Loss:  0.607\n",
      "Epoch   2 Batch  202/269 - Train Accuracy:  0.647, Validation Accuracy:  0.659, Loss:  0.586\n",
      "Epoch   2 Batch  222/269 - Train Accuracy:  0.645, Validation Accuracy:  0.650, Loss:  0.560\n",
      "Epoch   2 Batch  242/269 - Train Accuracy:  0.649, Validation Accuracy:  0.657, Loss:  0.559\n",
      "Epoch   2 Batch  262/269 - Train Accuracy:  0.649, Validation Accuracy:  0.653, Loss:  0.551\n",
      "Epoch   3 Batch   13/269 - Train Accuracy:  0.680, Validation Accuracy:  0.673, Loss:  0.497\n",
      "Epoch   3 Batch   33/269 - Train Accuracy:  0.675, Validation Accuracy:  0.676, Loss:  0.512\n",
      "Epoch   3 Batch   53/269 - Train Accuracy:  0.664, Validation Accuracy:  0.677, Loss:  0.538\n",
      "Epoch   3 Batch   73/269 - Train Accuracy:  0.667, Validation Accuracy:  0.677, Loss:  0.496\n",
      "Epoch   3 Batch   93/269 - Train Accuracy:  0.692, Validation Accuracy:  0.685, Loss:  0.462\n",
      "Epoch   3 Batch  113/269 - Train Accuracy:  0.697, Validation Accuracy:  0.690, Loss:  0.447\n",
      "Epoch   3 Batch  133/269 - Train Accuracy:  0.710, Validation Accuracy:  0.698, Loss:  0.441\n",
      "Epoch   3 Batch  153/269 - Train Accuracy:  0.699, Validation Accuracy:  0.702, Loss:  0.434\n",
      "Epoch   3 Batch  173/269 - Train Accuracy:  0.697, Validation Accuracy:  0.700, Loss:  0.419\n",
      "Epoch   3 Batch  193/269 - Train Accuracy:  0.721, Validation Accuracy:  0.710, Loss:  0.409\n",
      "Epoch   3 Batch  213/269 - Train Accuracy:  0.701, Validation Accuracy:  0.713, Loss:  0.405\n",
      "Epoch   3 Batch  233/269 - Train Accuracy:  0.738, Validation Accuracy:  0.720, Loss:  0.404\n",
      "Epoch   3 Batch  253/269 - Train Accuracy:  0.707, Validation Accuracy:  0.725, Loss:  0.389\n",
      "Epoch   4 Batch    4/269 - Train Accuracy:  0.705, Validation Accuracy:  0.726, Loss:  0.384\n",
      "Epoch   4 Batch   24/269 - Train Accuracy:  0.732, Validation Accuracy:  0.740, Loss:  0.369\n",
      "Epoch   4 Batch   44/269 - Train Accuracy:  0.740, Validation Accuracy:  0.739, Loss:  0.344\n",
      "Epoch   4 Batch   64/269 - Train Accuracy:  0.740, Validation Accuracy:  0.743, Loss:  0.320\n",
      "Epoch   4 Batch   84/269 - Train Accuracy:  0.771, Validation Accuracy:  0.760, Loss:  0.319\n",
      "Epoch   4 Batch  104/269 - Train Accuracy:  0.763, Validation Accuracy:  0.760, Loss:  0.306\n",
      "Epoch   4 Batch  124/269 - Train Accuracy:  0.768, Validation Accuracy:  0.761, Loss:  0.289\n",
      "Epoch   4 Batch  144/269 - Train Accuracy:  0.778, Validation Accuracy:  0.767, Loss:  0.277\n",
      "Epoch   4 Batch  164/269 - Train Accuracy:  0.797, Validation Accuracy:  0.762, Loss:  0.280\n",
      "Epoch   4 Batch  184/269 - Train Accuracy:  0.776, Validation Accuracy:  0.771, Loss:  0.279\n",
      "Epoch   4 Batch  204/269 - Train Accuracy:  0.794, Validation Accuracy:  0.793, Loss:  0.281\n",
      "Epoch   4 Batch  224/269 - Train Accuracy:  0.802, Validation Accuracy:  0.785, Loss:  0.267\n",
      "Epoch   4 Batch  244/269 - Train Accuracy:  0.794, Validation Accuracy:  0.790, Loss:  0.257\n",
      "Epoch   4 Batch  264/269 - Train Accuracy:  0.793, Validation Accuracy:  0.796, Loss:  0.253\n",
      "Epoch   5 Batch   15/269 - Train Accuracy:  0.812, Validation Accuracy:  0.809, Loss:  0.223\n",
      "Epoch   5 Batch   35/269 - Train Accuracy:  0.806, Validation Accuracy:  0.802, Loss:  0.237\n",
      "Epoch   5 Batch   55/269 - Train Accuracy:  0.850, Validation Accuracy:  0.813, Loss:  0.220\n",
      "Epoch   5 Batch   75/269 - Train Accuracy:  0.826, Validation Accuracy:  0.818, Loss:  0.214\n",
      "Epoch   5 Batch   95/269 - Train Accuracy:  0.834, Validation Accuracy:  0.825, Loss:  0.200\n",
      "Epoch   5 Batch  115/269 - Train Accuracy:  0.825, Validation Accuracy:  0.831, Loss:  0.208\n",
      "Epoch   5 Batch  135/269 - Train Accuracy:  0.827, Validation Accuracy:  0.826, Loss:  0.207\n",
      "Epoch   5 Batch  155/269 - Train Accuracy:  0.841, Validation Accuracy:  0.828, Loss:  0.176\n",
      "Epoch   5 Batch  175/269 - Train Accuracy:  0.843, Validation Accuracy:  0.840, Loss:  0.201\n",
      "Epoch   5 Batch  195/269 - Train Accuracy:  0.848, Validation Accuracy:  0.846, Loss:  0.174\n",
      "Epoch   5 Batch  215/269 - Train Accuracy:  0.875, Validation Accuracy:  0.855, Loss:  0.160\n",
      "Epoch   5 Batch  235/269 - Train Accuracy:  0.871, Validation Accuracy:  0.842, Loss:  0.158\n",
      "Epoch   5 Batch  255/269 - Train Accuracy:  0.871, Validation Accuracy:  0.863, Loss:  0.156\n",
      "Epoch   6 Batch    6/269 - Train Accuracy:  0.877, Validation Accuracy:  0.858, Loss:  0.152\n",
      "Epoch   6 Batch   26/269 - Train Accuracy:  0.889, Validation Accuracy:  0.868, Loss:  0.137\n",
      "Epoch   6 Batch   46/269 - Train Accuracy:  0.874, Validation Accuracy:  0.868, Loss:  0.144\n",
      "Epoch   6 Batch   66/269 - Train Accuracy:  0.869, Validation Accuracy:  0.874, Loss:  0.138\n",
      "Epoch   6 Batch   86/269 - Train Accuracy:  0.878, Validation Accuracy:  0.868, Loss:  0.131\n",
      "Epoch   6 Batch  106/269 - Train Accuracy:  0.879, Validation Accuracy:  0.870, Loss:  0.125\n",
      "Epoch   6 Batch  126/269 - Train Accuracy:  0.875, Validation Accuracy:  0.871, Loss:  0.125\n",
      "Epoch   6 Batch  146/269 - Train Accuracy:  0.889, Validation Accuracy:  0.889, Loss:  0.121\n",
      "Epoch   6 Batch  166/269 - Train Accuracy:  0.901, Validation Accuracy:  0.890, Loss:  0.114\n",
      "Epoch   6 Batch  186/269 - Train Accuracy:  0.891, Validation Accuracy:  0.890, Loss:  0.111\n",
      "Epoch   6 Batch  206/269 - Train Accuracy:  0.872, Validation Accuracy:  0.895, Loss:  0.125\n",
      "Epoch   6 Batch  226/269 - Train Accuracy:  0.898, Validation Accuracy:  0.900, Loss:  0.114\n",
      "Epoch   6 Batch  246/269 - Train Accuracy:  0.895, Validation Accuracy:  0.889, Loss:  0.104\n",
      "Epoch   6 Batch  266/269 - Train Accuracy:  0.899, Validation Accuracy:  0.900, Loss:  0.103\n",
      "Epoch   7 Batch   17/269 - Train Accuracy:  0.904, Validation Accuracy:  0.893, Loss:  0.093\n",
      "Epoch   7 Batch   37/269 - Train Accuracy:  0.906, Validation Accuracy:  0.900, Loss:  0.097\n",
      "Epoch   7 Batch   57/269 - Train Accuracy:  0.914, Validation Accuracy:  0.894, Loss:  0.098\n",
      "Epoch   7 Batch   77/269 - Train Accuracy:  0.912, Validation Accuracy:  0.900, Loss:  0.087\n",
      "Epoch   7 Batch   97/269 - Train Accuracy:  0.904, Validation Accuracy:  0.898, Loss:  0.088\n",
      "Epoch   7 Batch  117/269 - Train Accuracy:  0.904, Validation Accuracy:  0.900, Loss:  0.085\n",
      "Epoch   7 Batch  137/269 - Train Accuracy:  0.901, Validation Accuracy:  0.905, Loss:  0.090\n",
      "Epoch   7 Batch  157/269 - Train Accuracy:  0.905, Validation Accuracy:  0.905, Loss:  0.072\n",
      "Epoch   7 Batch  177/269 - Train Accuracy:  0.901, Validation Accuracy:  0.897, Loss:  0.071\n",
      "Epoch   7 Batch  197/269 - Train Accuracy:  0.915, Validation Accuracy:  0.919, Loss:  0.078\n",
      "Epoch   7 Batch  217/269 - Train Accuracy:  0.909, Validation Accuracy:  0.914, Loss:  0.073\n",
      "Epoch   7 Batch  237/269 - Train Accuracy:  0.908, Validation Accuracy:  0.906, Loss:  0.071\n",
      "Epoch   7 Batch  257/269 - Train Accuracy:  0.892, Validation Accuracy:  0.904, Loss:  0.076\n",
      "Epoch   8 Batch    8/269 - Train Accuracy:  0.914, Validation Accuracy:  0.914, Loss:  0.072\n",
      "Epoch   8 Batch   28/269 - Train Accuracy:  0.892, Validation Accuracy:  0.920, Loss:  0.075\n",
      "Epoch   8 Batch   48/269 - Train Accuracy:  0.922, Validation Accuracy:  0.910, Loss:  0.059\n",
      "Epoch   8 Batch   68/269 - Train Accuracy:  0.913, Validation Accuracy:  0.915, Loss:  0.071\n",
      "Epoch   8 Batch   88/269 - Train Accuracy:  0.909, Validation Accuracy:  0.915, Loss:  0.066\n",
      "Epoch   8 Batch  108/269 - Train Accuracy:  0.926, Validation Accuracy:  0.926, Loss:  0.062\n",
      "Epoch   8 Batch  128/269 - Train Accuracy:  0.932, Validation Accuracy:  0.920, Loss:  0.061\n",
      "Epoch   8 Batch  148/269 - Train Accuracy:  0.923, Validation Accuracy:  0.919, Loss:  0.063\n",
      "Epoch   8 Batch  168/269 - Train Accuracy:  0.926, Validation Accuracy:  0.932, Loss:  0.064\n",
      "Epoch   8 Batch  188/269 - Train Accuracy:  0.926, Validation Accuracy:  0.925, Loss:  0.056\n",
      "Epoch   8 Batch  208/269 - Train Accuracy:  0.931, Validation Accuracy:  0.930, Loss:  0.060\n",
      "Epoch   8 Batch  228/269 - Train Accuracy:  0.921, Validation Accuracy:  0.926, Loss:  0.056\n",
      "Epoch   8 Batch  248/269 - Train Accuracy:  0.930, Validation Accuracy:  0.925, Loss:  0.055\n",
      "Epoch   9 Batch   19/269 - Train Accuracy:  0.928, Validation Accuracy:  0.929, Loss:  0.046\n",
      "Epoch   9 Batch   39/269 - Train Accuracy:  0.926, Validation Accuracy:  0.934, Loss:  0.050\n",
      "Epoch   9 Batch   59/269 - Train Accuracy:  0.948, Validation Accuracy:  0.931, Loss:  0.041\n",
      "Epoch   9 Batch   79/269 - Train Accuracy:  0.922, Validation Accuracy:  0.934, Loss:  0.056\n",
      "Epoch   9 Batch   99/269 - Train Accuracy:  0.932, Validation Accuracy:  0.934, Loss:  0.051\n",
      "Epoch   9 Batch  119/269 - Train Accuracy:  0.931, Validation Accuracy:  0.933, Loss:  0.054\n",
      "Epoch   9 Batch  139/269 - Train Accuracy:  0.932, Validation Accuracy:  0.933, Loss:  0.043\n",
      "Epoch   9 Batch  159/269 - Train Accuracy:  0.943, Validation Accuracy:  0.937, Loss:  0.047\n",
      "Epoch   9 Batch  179/269 - Train Accuracy:  0.931, Validation Accuracy:  0.946, Loss:  0.048\n",
      "Epoch   9 Batch  199/269 - Train Accuracy:  0.929, Validation Accuracy:  0.943, Loss:  0.050\n",
      "Epoch   9 Batch  219/269 - Train Accuracy:  0.936, Validation Accuracy:  0.944, Loss:  0.051\n",
      "Epoch   9 Batch  239/269 - Train Accuracy:  0.935, Validation Accuracy:  0.930, Loss:  0.056\n",
      "Epoch   9 Batch  259/269 - Train Accuracy:  0.925, Validation Accuracy:  0.924, Loss:  0.050\n",
      "Model Trained and Saved\n"
     ]
    }
   ],
   "source": [
    "\"\"\"\n",
    "DON'T MODIFY ANYTHING IN THIS CELL\n",
    "\"\"\"\n",
    "import time\n",
    "\n",
    "def get_accuracy(target, logits):\n",
    "    \"\"\"\n",
    "    Calculate accuracy\n",
    "    \"\"\"\n",
    "    max_seq = max(target.shape[1], logits.shape[1])\n",
    "    if max_seq - target.shape[1]:\n",
    "        target = np.pad(\n",
    "            target,\n",
    "            [(0,0),(0,max_seq - target.shape[1])],\n",
    "            'constant')\n",
    "    if max_seq - logits.shape[1]:\n",
    "        logits = np.pad(\n",
    "            logits,\n",
    "            [(0,0),(0,max_seq - logits.shape[1]), (0,0)],\n",
    "            'constant')\n",
    "\n",
    "    return np.mean(np.equal(target, np.argmax(logits, 2)))\n",
    "\n",
    "train_source = source_int_text[batch_size:]\n",
    "train_target = target_int_text[batch_size:]\n",
    "\n",
    "valid_source = helper.pad_sentence_batch(source_int_text[:batch_size])\n",
    "valid_target = helper.pad_sentence_batch(target_int_text[:batch_size])\n",
    "\n",
    "with tf.Session(graph=train_graph) as sess:\n",
    "    sess.run(tf.global_variables_initializer())\n",
    "\n",
    "    for epoch_i in range(epochs):\n",
    "        for batch_i, (source_batch, target_batch) in enumerate(\n",
    "                helper.batch_data(train_source, train_target, batch_size)):\n",
    "            start_time = time.time()\n",
    "            \n",
    "            _, loss = sess.run(\n",
    "                [train_op, cost],\n",
    "                {input_data: source_batch,\n",
    "                 targets: target_batch,\n",
    "                 lr: learning_rate,\n",
    "                 sequence_length: target_batch.shape[1],\n",
    "                 keep_prob: keep_probability})\n",
    "            \n",
    "            batch_train_logits = sess.run(\n",
    "                inference_logits,\n",
    "                {input_data: source_batch, keep_prob: 1.0})\n",
    "            batch_valid_logits = sess.run(\n",
    "                inference_logits,\n",
    "                {input_data: valid_source, keep_prob: 1.0})\n",
    "                \n",
    "            train_acc = get_accuracy(target_batch, batch_train_logits)\n",
    "            valid_acc = get_accuracy(np.array(valid_target), batch_valid_logits)\n",
    "            end_time = time.time()\n",
    "            \n",
    "            # Show every <show_every_n_batches> batches\n",
    "            if (epoch_i * (len(source_int_text) // batch_size) + batch_i) % show_every_n_batches == 0:\n",
    "                print('Epoch {:>3} Batch {:>4}/{} - Train Accuracy: {:>6.3f}, Validation Accuracy: {:>6.3f}, Loss: {:>6.3f}'\n",
    "                      .format(epoch_i, batch_i, len(source_int_text) // batch_size, train_acc, valid_acc, loss))\n",
    "\n",
    "    # Save Model\n",
    "    saver = tf.train.Saver()\n",
    "    saver.save(sess, save_path)\n",
    "    print('Model Trained and Saved')"
   ]
  },
  {
   "cell_type": "markdown",
   "metadata": {},
   "source": [
    "### 保存参数\n",
    "\n",
    "保存 `batch_size` 和 `save_path` 参数以进行推论（for inference）。"
   ]
  },
  {
   "cell_type": "code",
   "execution_count": 17,
   "metadata": {
    "collapsed": true
   },
   "outputs": [],
   "source": [
    "\"\"\"\n",
    "DON'T MODIFY ANYTHING IN THIS CELL\n",
    "\"\"\"\n",
    "# Save parameters for checkpoint\n",
    "helper.save_params(save_path)"
   ]
  },
  {
   "cell_type": "markdown",
   "metadata": {},
   "source": [
    "# 检查点"
   ]
  },
  {
   "cell_type": "code",
   "execution_count": 18,
   "metadata": {
    "collapsed": true
   },
   "outputs": [],
   "source": [
    "\"\"\"\n",
    "DON'T MODIFY ANYTHING IN THIS CELL\n",
    "\"\"\"\n",
    "import tensorflow as tf\n",
    "import numpy as np\n",
    "import helper\n",
    "import problem_unittests as tests\n",
    "\n",
    "_, (source_vocab_to_int, target_vocab_to_int), (source_int_to_vocab, target_int_to_vocab) = helper.load_preprocess()\n",
    "load_path = helper.load_params()"
   ]
  },
  {
   "cell_type": "markdown",
   "metadata": {},
   "source": [
    "## 句子到序列\n",
    "\n",
    "要向模型提供要翻译的句子，你首先需要预处理该句子。实现函数 `sentence_to_seq()` 以预处理新的句子。\n",
    "\n",
    "- 将句子转换为小写形式\n",
    "- 使用 `vocab_to_int` 将单词转换为 id\n",
    " - 如果单词不在词汇表中，将其转换为`<UNK>` 单词 id"
   ]
  },
  {
   "cell_type": "code",
   "execution_count": 19,
   "metadata": {},
   "outputs": [
    {
     "name": "stdout",
     "output_type": "stream",
     "text": [
      "Tests Passed\n"
     ]
    }
   ],
   "source": [
    "def sentence_to_seq(sentence, vocab_to_int):\n",
    "    \"\"\"\n",
    "    Convert a sentence to a sequence of ids\n",
    "    :param sentence: String\n",
    "    :param vocab_to_int: Dictionary to go from the words to an id\n",
    "    :return: List of word ids\n",
    "    \"\"\"\n",
    "    # TODO: Implement Function\n",
    "    unk = vocab_to_int['<UNK>']\n",
    "    word_seq = [vocab_to_int.get(word, unk) for word in sentence.lower().split()]\n",
    "    return word_seq\n",
    "\n",
    "\n",
    "\"\"\"\n",
    "DON'T MODIFY ANYTHING IN THIS CELL THAT IS BELOW THIS LINE\n",
    "\"\"\"\n",
    "tests.test_sentence_to_seq(sentence_to_seq)"
   ]
  },
  {
   "cell_type": "markdown",
   "metadata": {},
   "source": [
    "## 翻译\n",
    "\n",
    "将 `translate_sentence` 从英语翻译成法语。"
   ]
  },
  {
   "cell_type": "code",
   "execution_count": 20,
   "metadata": {},
   "outputs": [
    {
     "name": "stdout",
     "output_type": "stream",
     "text": [
      "Input\n",
      "  Word Ids:      [105, 14, 194, 181, 89, 116, 162]\n",
      "  English Words: ['he', 'saw', 'a', 'old', 'yellow', 'truck', '.']\n",
      "\n",
      "Prediction\n",
      "  Word Ids:      [316, 344, 296, 64, 299, 179, 339, 1]\n",
      "  French Words: ['il', 'pas', 'une', 'nouvelle', 'camion', 'noir', '.', '<EOS>']\n"
     ]
    }
   ],
   "source": [
    "translate_sentence = 'he saw a old yellow truck .'\n",
    "\n",
    "\n",
    "\"\"\"\n",
    "DON'T MODIFY ANYTHING IN THIS CELL\n",
    "\"\"\"\n",
    "translate_sentence = sentence_to_seq(translate_sentence, source_vocab_to_int)\n",
    "\n",
    "loaded_graph = tf.Graph()\n",
    "with tf.Session(graph=loaded_graph) as sess:\n",
    "    # Load saved model\n",
    "    loader = tf.train.import_meta_graph(load_path + '.meta')\n",
    "    loader.restore(sess, load_path)\n",
    "\n",
    "    input_data = loaded_graph.get_tensor_by_name('input:0')\n",
    "    logits = loaded_graph.get_tensor_by_name('logits:0')\n",
    "    keep_prob = loaded_graph.get_tensor_by_name('keep_prob:0')\n",
    "\n",
    "    translate_logits = sess.run(logits, {input_data: [translate_sentence], keep_prob: 1.0})[0]\n",
    "\n",
    "print('Input')\n",
    "print('  Word Ids:      {}'.format([i for i in translate_sentence]))\n",
    "print('  English Words: {}'.format([source_int_to_vocab[i] for i in translate_sentence]))\n",
    "\n",
    "print('\\nPrediction')\n",
    "print('  Word Ids:      {}'.format([i for i in np.argmax(translate_logits, 1)]))\n",
    "print('  French Words: {}'.format([target_int_to_vocab[i] for i in np.argmax(translate_logits, 1)]))"
   ]
  },
  {
   "cell_type": "markdown",
   "metadata": {},
   "source": [
    "## 不完美的翻译\n",
    "\n",
    "你可能注意到了，某些句子的翻译质量比其他的要好。因为你使用的数据集只有 227 个英语单词，但实际生活中有数千个单词，只有使用这些单词的句子结果才会比较理想。对于此项目，不需要达到完美的翻译。但是，如果你想创建更好的翻译模型，则需要更好的数据。\n",
    "\n",
    "你可以使用 [WMT10 French-English corpus](http://www.statmt.org/wmt10/training-giga-fren.tar) 语料库训练模型。该数据集拥有更多的词汇，讨论的话题也更丰富。但是，训练时间要好多天的时间，所以确保你有 GPU 并且对于我们提供的数据集，你的神经网络性能很棒。提交此项目后，别忘了研究下 WMT10 语料库。\n",
    "\n",
    "\n",
    "## 提交项目\n",
    "\n",
    "提交项目时，确保先运行所有单元，然后再保存记事本。保存记事本文件为 “dlnd_language_translation.ipynb”，再通过菜单中的“文件” ->“下载为”将其另存为 HTML 格式。提交的项目文档中需包含“helper.py”和“problem_unittests.py”文件。\n"
   ]
  }
 ],
 "metadata": {
  "kernelspec": {
   "display_name": "Python 3",
   "language": "python",
   "name": "python3"
  },
  "language_info": {
   "codemirror_mode": {
    "name": "ipython",
    "version": 3
   },
   "file_extension": ".py",
   "mimetype": "text/x-python",
   "name": "python",
   "nbconvert_exporter": "python",
   "pygments_lexer": "ipython3",
   "version": "3.5.5"
  },
  "widgets": {
   "state": {},
   "version": "1.1.2"
  }
 },
 "nbformat": 4,
 "nbformat_minor": 1
}
